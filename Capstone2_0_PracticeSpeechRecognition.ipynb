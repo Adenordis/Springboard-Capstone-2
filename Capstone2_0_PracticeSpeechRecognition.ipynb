{
 "cells": [
  {
   "cell_type": "code",
   "execution_count": 7,
   "metadata": {},
   "outputs": [],
   "source": [
    "import speech_recognition as sr"
   ]
  },
  {
   "cell_type": "code",
   "execution_count": 8,
   "metadata": {},
   "outputs": [],
   "source": [
    "data_folder = 'data/dataset_arthur-the-rat/'\n",
    "\n",
    "audio_files = {'Sample audio OSR_us_000_0010_8k': data_folder + 'Audio test/OSR_us_000_0010_8k.wav',\n",
    "               'R0482: 24yo American woman'     : data_folder + 'Arthur the Rat (recordings 476-500)/R0482.wav',\n",
    "               'R0483: 26yo American man'       : data_folder + 'Arthur the Rat (recordings 476-500)/R0483.wav'}\n",
    "\n",
    "n_files = len(audio_files)"
   ]
  },
  {
   "cell_type": "code",
   "execution_count": 9,
   "metadata": {},
   "outputs": [
    {
     "data": {
      "text/plain": [
       "'the Birch canoe slid on the smooth planks glue the seat to the dark blue background it is easy to tell the depth of a well these days a chicken nugget a verb dish rice is often served in round Bowls the juice of lemons makes fine punch the box was the one beside the pump truck the Hogs are such hot corn and garbage 4 hours of study works'"
      ]
     },
     "execution_count": 9,
     "metadata": {},
     "output_type": "execute_result"
    }
   ],
   "source": [
    "reco = sr.Recognizer()\n",
    "af = sr.AudioFile(data_folder + 'Audio test/OSR_us_000_0010_8k.wav')\n",
    "with af as source:\n",
    "    audio = reco.record(source)\n",
    "reco.recognize_google(audio)"
   ]
  },
  {
   "cell_type": "code",
   "execution_count": 10,
   "metadata": {},
   "outputs": [
    {
     "data": {
      "text/plain": [
       "\"once there was a young rat named Arthur who could never make up his mind whenever his friends asked him if he would like to go out with him you would only answer I don't know he wouldn't say yes or no either he could never learn to make a choice his Aunt Helen said to him no one is going to care for you if you carry on like this one rainy day the wrapped heard a great noise in the law for the pine Raptors were all rotten at last the joints gave way and fell to the ground the walls Shook and all the rats hair stood on end with fear and horror this won't do said the captain I'll send scouts out to search for a new home three hours later the seven Scout came back and said we have found just what we wanted a stone house where there is room and good food for us all there is a kindly horse named Nellie a cow a calf and a garden with an elm tree but the roof may not come down yet well right about face March and they want to off the idea of a decision was too much for him why do they have to go today he said calmly to himself that night there was a great crash that shook the Earth in the foggy morning some men rolled up and looked at the ruins one of them moved half in and half out of his hole 1 2 3 4 5 6 7 8 9 10 11 12 13 14 15 16 17 18 19 20\""
      ]
     },
     "execution_count": 10,
     "metadata": {},
     "output_type": "execute_result"
    }
   ],
   "source": [
    "reco = sr.Recognizer()\n",
    "af = sr.AudioFile(data_folder + 'Arthur the Rat (recordings 476-500)/R0482.wav')\n",
    "with af as source:\n",
    "    audio = reco.record(source)\n",
    "reco.recognize_google(audio)"
   ]
  },
  {
   "cell_type": "code",
   "execution_count": 11,
   "metadata": {},
   "outputs": [
    {
     "data": {
      "text/plain": [
       "'3.7.3 (default, Mar 27 2019, 17:13:21) [MSC v.1915 64 bit (AMD64)]'"
      ]
     },
     "execution_count": 11,
     "metadata": {},
     "output_type": "execute_result"
    }
   ],
   "source": [
    "import sys\n",
    "sys.version"
   ]
  },
  {
   "cell_type": "code",
   "execution_count": 12,
   "metadata": {},
   "outputs": [],
   "source": [
    "import os\n",
    "from pocketsphinx import Pocketsphinx, get_model_path, get_data_path\n",
    "\n",
    "model_path = get_model_path()\n",
    "data_path = get_data_path()\n",
    "\n",
    "config = {\n",
    "'hmm': os.path.join(model_path, 'en-us'),\n",
    "'lm': os.path.join(model_path, 'en-us.lm.bin'),\n",
    "'dict': os.path.join(model_path, 'cmudict-en-us.dict')\n",
    "}\n"
   ]
  },
  {
   "cell_type": "code",
   "execution_count": 13,
   "metadata": {},
   "outputs": [
    {
     "name": "stdout",
     "output_type": "stream",
     "text": [
      "what oh and good look at what oh the i don't know what i went out at and bad but it out of breath of not been in to the that\n"
     ]
    }
   ],
   "source": [
    "ps = Pocketsphinx(**config)\n",
    "ps.decode(\n",
    "audio_file=data_folder + 'Audio test/OSR_us_000_0010_8k.wav',\n",
    "buffer_size=2048,\n",
    "no_search=False,\n",
    "full_utt=False\n",
    ")\n",
    "\n",
    "print(ps.hypothesis())"
   ]
  },
  {
   "cell_type": "code",
   "execution_count": 17,
   "metadata": {},
   "outputs": [
    {
     "name": "stdout",
     "output_type": "stream",
     "text": [
      "wow wall room we're all home and half from the outflow of room i found hopefully you have fun of it have blue lived won't for wound up of how to fend for what it for a white fur to where if you walk home office and that only a few fuel warm home whole world of warcraft and moved with you that if for law all of the war to move to love her how to ah ha who are of old moved moved heaven if aloof were at home tactful up and angola to the fact is if you have to check who knows what holds moved to moved vo of a rule to fool out of well we have to move to move out of food food for an of 'em war who owned half hour of gravity and found move off of her live after they have all moved moved off the front and moral issue for growth of the war of the time to time of did home has moved to move up and moving up for all all to often trying to have a volvo of bad for those who ah and loan i have the time of the one who ah live how warm from the old ah new that a warm wow the the whole time we'd go catch how to get that dwarf and the food time half of the new the fact of trying to move the war war after it was how how the mole wrong move back move them fresh and food aid of five one of the earth an moved on to ah to the war to have all the time left for a pound or it moved the passion i she's all have a laugh track will have ah fuck fuck room home phone move it to do that i'm knew that from time to time removed pills and i'm ah fact i'm were proved old now\n"
     ]
    }
   ],
   "source": [
    "ps = Pocketsphinx(**config)\n",
    "ps.decode(\n",
    "audio_file=data_folder + 'Arthur the Rat (recordings 476-500)/R0482.wav',\n",
    "buffer_size=2048,\n",
    "no_search=False,\n",
    "full_utt=False\n",
    ")\n",
    "\n",
    "print(ps.hypothesis())"
   ]
  },
  {
   "cell_type": "code",
   "execution_count": 72,
   "metadata": {},
   "outputs": [
    {
     "name": "stdout",
     "output_type": "stream",
     "text": [
      "a about again all always an and angrily angry answer are arthur asked at aunt away back barn big bit blade board boys but calf calmly came can't captain care carry caught certain chief choice coarsely come coming could course cow crash crawled day dead decision do don't down due earth either elm end ever face fallen fear fell five floor foggy food for found friends garden gave girls given go going good got grass great ground had hair half have he heard helen here him himself his hole home horror horse hours house houses hurry i i'll i'm idea if immediate in is it it's join joists just kindly know last later learn like line little lived loft long look looked lying make making march may men mind more morning moved much my named nelly never new next nice night no no-one noise not nothing now of off old on once one only or ordered other out pine quite rafters rainy rat rather rats right rode roof room rotten ruins said saw say scouts search send seven shirk shirker shook side sighed sight snug so some stone stood stop take ten than that the their them then there there's they think this three thus to tomorrow too tree trouble undaunted under unsafe up us wait walls wanted was watched way we we've well went were what whenever where which who whole will wise with within won't would wouldn't yes yet you young your \n",
      "\n",
      "Total number of words: 244\n"
     ]
    }
   ],
   "source": [
    "import re\n",
    "\n",
    "arthur_the_rat_v1 = \"\"\"There was once a young rat named Arthur who would never take the trouble to make up his mind. Whenever his friends asked him if he would like to go out with them, he would only answer, “I don’t know.” He wouldn’t say “Yes” and he wouldn’t say “No” either. He could never learn to make a choice. His Aunt Helen said to him “No-one will ever care for you if you carry on like this. You have no more mind than a blade of grass.” Arthur looked wise but said nothing. One rainy day the rats heard a great noise in the loft where they lived. The pine rafters were all rotten, and at last one of the joists had given way and fallen to the ground. The walls shook and the rats’ hair stood on end with fear and horror. “This won’t do,” said the old rat who was chief, “I’ll send out scouts to search for a new home.” Three hours later the seven scouts came back and said, “We’ve found a stone house which is just what we wanted. There’s room and good food for us all. There’s a kindly horse named Nelly, a cow, a calf and a garden with an elm tree.” Just then the old rat caught sight of young Arthur. “Are you coming with us?” he asked. “I don’t know,” Arthur sighed, “The roof may not come down just yet.” “Well,” said the old rat angrily, “We can’t wait all day for you to make up your mind. Right about face! March!” And they went off. Arthur stood and watched the other rats hurry away. The idea of an immediate decision was too much for him. “I’ll go back to my hole for a bit,” he said to himself, “just to make up my mind.” That night there was a great crash that shook the earth, and down came the whole roof. Next day some men rode up and looked at the ruins. One of them moved a board, and under it they saw a young rat lying on his side, quite dead, half in and half out of his hole. \"\"\"\n",
    "arthur_the_rat_v2 = \"\"\"Once there was a young rat named Arthur, who could never make up his mind. Whenever his friends asked him if he would like to go out with them, he would only answer, \"I don't know.\" He wouldn't say \"yes\" or \"no\" either. He would always shirk making a choice. His aunt Helen said to him, \"Now look here. No one is going to care for you if you carry on like this. You have no more mind than a blade of grass.\" One rainy day, the rats heard a great noise in the loft. The pine rafters were all rotten, so that the barn was rather unsafe. At last the joists gave way and fell to the ground. The walls shook and all the rats' hair stood on end with fear and horror. \"This won't do,\" said the captain. \"I'll send out scouts to search for a new home.\" Within five hours the ten scouts came back and said, \"We found a stone house where there is room and board for us all. There is a kindly horse named Nelly, a cow, a calf, and a garden with an elm tree.\" The rats crawled out of their little houses and stood on the floor in a long line. Just then the old one saw Arthur. \"Stop,\" he ordered coarsely. \"You are coming, of course?\" \"I'm not certain,\" said Arthur, undaunted. \"The roof may not come down yet.\" \"Well,\" said the angry old rat, \"we can't wait for you to join us. Right about face. March!\" Arthur stood and watched them hurry away. \"I think I'll go tomorrow,\" he calmly said to himself, but then again \"I don't know; it's so nice and snug here.\" That night there was a big crash. In the foggy morning some men—with some boys and girls—rode up and looked at the barn. One of them moved a board and he saw a young rat, quite dead, half in and half out of his hole. Thus the shirker got his due. \"\"\"\n",
    "\n",
    "all_text = (arthur_the_rat_v1 + arthur_the_rat_v2).lower()\n",
    "all_text = re.sub('\\.|,|\\?|!|\\\"|“|”|;', '', all_text)\n",
    "all_text = re.sub('’', '\\'', all_text)\n",
    "all_text = re.sub('\\' ', ' ', all_text)\n",
    "all_text = re.sub('—', ' ', all_text)\n",
    "words = set(all_text.split(' '))\n",
    "words.discard('')\n",
    "word_list = sorted(list(words))\n",
    "\n",
    "for word in word_list:\n",
    "    print(word, end = ' ')\n",
    "\n",
    "print()\n",
    "print()\n",
    "print('Total number of words:', len(words))"
   ]
  },
  {
   "cell_type": "code",
   "execution_count": 61,
   "metadata": {},
   "outputs": [
    {
     "name": "stdout",
     "output_type": "stream",
     "text": [
      "Pronunciation for word 'arthur' is  AA R TH ER\n"
     ]
    }
   ],
   "source": [
    "from pocketsphinx import Decoder\n",
    "\n",
    "config = Decoder.default_config()\n",
    "config.set_string('-hmm', os.path.join(model_path, 'en-us')),\n",
    "config.set_string('-lm', os.path.join(model_path, 'en-us.lm.bin'))\n",
    "config.set_string('-dict',os.path.join(model_path, 'cmudict-en-us.dict'))\n",
    "\n",
    "decoder = Decoder(config)\n",
    "print (\"Pronunciation for word 'arthur' is \", decoder.lookup_word(\"arthur\"))"
   ]
  },
  {
   "cell_type": "code",
   "execution_count": 75,
   "metadata": {},
   "outputs": [
    {
     "name": "stdout",
     "output_type": "stream",
     "text": [
      "Missing word:  coarsely\n",
      "Missing word:  shirker\n"
     ]
    }
   ],
   "source": [
    "new_dict_file = open(os.path.join(model_path, 'arthur-subset.dict'),'w+')\n",
    "for word in word_list:\n",
    "    if decoder.lookup_word(word) is None:\n",
    "        print('Missing word: ', word)\n",
    "        new_dict_file.write(word + ' \\n')\n",
    "    else:\n",
    "        new_dict_file.write(word + ' ' + decoder.lookup_word(word) + '\\n')\n",
    "new_dict_file.close()"
   ]
  },
  {
   "cell_type": "code",
   "execution_count": 55,
   "metadata": {},
   "outputs": [
    {
     "data": {
      "text/plain": [
       "'C:\\\\ProgramData\\\\Anaconda3\\\\lib\\\\site-packages\\\\pocketsphinx\\\\model'"
      ]
     },
     "execution_count": 55,
     "metadata": {},
     "output_type": "execute_result"
    }
   ],
   "source": [
    "model_path"
   ]
  },
  {
   "cell_type": "code",
   "execution_count": 76,
   "metadata": {},
   "outputs": [
    {
     "name": "stdout",
     "output_type": "stream",
     "text": [
      "well well who were all of food and if i have moved with food go up looked for one and of food and food moved won't for the half of all home have you found heard that is home of moved out of all home off in but only if the if little more to home or what have i moved with you that if at all all of all to the roof of a home and i moved i moved of old but moved food and have moved they were at home for all up and have old it do if found who they have food food food food that i moved i moved five all of a of a look at home for five will and have food and moved out of food food for in the old who won't have five ground and found moved off lived it at all i have all moved moved off the floor of the the and more is a is for rode off of it all of that a a room that at and have had moved moved who food all the food at home lived half of all moved up food home of you all have to i have a food i lived house walls and the old i have a new home now i can't i'm in lived with i can't have it in for more of who i have do have to go home to more about it won't have it more then moved back home and moved away at but in the earth and food off who i moved were home to half have found it i know all of moved the in i if you all are i have at home of home if you home of the if it for food and then at home do that come on come home moved home and come home if all come out the walls\n"
     ]
    }
   ],
   "source": [
    "config = {\n",
    "'hmm': os.path.join(model_path, 'en-us'),\n",
    "'lm': os.path.join(model_path, 'en-us.lm.bin'),\n",
    "'dict': os.path.join(model_path, 'arthur-subset.dict')\n",
    "}\n",
    "\n",
    "ps = Pocketsphinx(**config)\n",
    "ps.decode(\n",
    "audio_file=data_folder + 'Arthur the Rat (recordings 476-500)/R0482.wav',\n",
    "buffer_size=2048,\n",
    "no_search=False,\n",
    "full_utt=False\n",
    ")\n",
    "\n",
    "print(ps.hypothesis())"
   ]
  },
  {
   "cell_type": "code",
   "execution_count": 79,
   "metadata": {},
   "outputs": [],
   "source": [
    "harvard = \"\"\"The birch canoe slid on the smooth planks.\n",
    "Glue the sheet to the dark blue background.\n",
    "It's easy to tell the depth of a well.\n",
    "These days a chicken leg is a rare dish.\n",
    "Rice is often served in round bowls.\n",
    "The juice of lemons makes fine punch.\n",
    "The box was thrown beside the parked truck.\n",
    "The hogs were fed chopped corn and garbage.\n",
    "Four hours of steady work faced us.\n",
    "Large size in stockings is hard to sell.\"\"\"\n",
    "\n",
    "all_text_harvard = (harvard).lower()\n",
    "all_text_harvard = re.sub('\\.|,|\\?|!|\\\"|“|”|;', '', all_text_harvard)\n",
    "all_text_harvard = re.sub('’', '\\'', all_text_harvard)\n",
    "all_text_harvard = re.sub('\\' ', ' ', all_text_harvard)\n",
    "all_text_harvard = re.sub('—|\\n', ' ', all_text_harvard)\n",
    "words_harvard = set(all_text_harvard.split(' '))\n",
    "words_harvard.discard('')\n",
    "word_list_harvard = sorted(list(words_harvard))\n",
    "\n",
    "new_dict_file = open(os.path.join(model_path, 'harvard-subset.dict'),'w+')\n",
    "for word in word_list_harvard:\n",
    "    if decoder.lookup_word(word) is None:\n",
    "        print('Missing word: ', word)\n",
    "        new_dict_file.write(word + ' \\n')\n",
    "    else:\n",
    "        new_dict_file.write(word + ' ' + decoder.lookup_word(word) + '\\n')\n",
    "new_dict_file.close()"
   ]
  },
  {
   "cell_type": "code",
   "execution_count": 83,
   "metadata": {},
   "outputs": [
    {
     "name": "stdout",
     "output_type": "stream",
     "text": [
      "well to to the the bowls well and were on and birch and of the of the\n"
     ]
    }
   ],
   "source": [
    "config = {\n",
    "'hmm': os.path.join(model_path, 'en-us'),\n",
    "'lm': os.path.join(model_path, 'en-us.lm.bin'),\n",
    "'dict': os.path.join(model_path, 'harvard-subset.dict')\n",
    "}\n",
    "\n",
    "ps = Pocketsphinx(**config)\n",
    "ps.decode(\n",
    "audio_file=data_folder + 'Audio test/OSR_us_000_0010_8k.wav',\n",
    "buffer_size=2048,\n",
    "no_search=False,\n",
    "full_utt=False\n",
    ")\n",
    "\n",
    "print(ps.hypothesis())"
   ]
  },
  {
   "cell_type": "code",
   "execution_count": null,
   "metadata": {},
   "outputs": [],
   "source": []
  }
 ],
 "metadata": {
  "kernelspec": {
   "display_name": "Python 3",
   "language": "python",
   "name": "python3"
  },
  "language_info": {
   "codemirror_mode": {
    "name": "ipython",
    "version": 3
   },
   "file_extension": ".py",
   "mimetype": "text/x-python",
   "name": "python",
   "nbconvert_exporter": "python",
   "pygments_lexer": "ipython3",
   "version": "3.7.3"
  }
 },
 "nbformat": 4,
 "nbformat_minor": 2
}
