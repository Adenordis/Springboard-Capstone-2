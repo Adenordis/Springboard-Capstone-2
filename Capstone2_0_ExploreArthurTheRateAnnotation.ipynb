{
 "cells": [
  {
   "cell_type": "code",
   "execution_count": 1,
   "metadata": {},
   "outputs": [
    {
     "name": "stderr",
     "output_type": "stream",
     "text": [
      "Using TensorFlow backend.\n"
     ]
    }
   ],
   "source": [
    "import pandas as pd\n",
    "import numpy as np\n",
    "import matplotlib.pyplot as plt\n"
   ]
  },
  {
   "cell_type": "code",
   "execution_count": 2,
   "metadata": {},
   "outputs": [],
   "source": []
  },
  {
   "cell_type": "code",
   "execution_count": 24,
   "metadata": {},
   "outputs": [
    {
     "data": {
      "text/html": [
       "<div>\n",
       "<style scoped>\n",
       "    .dataframe tbody tr th:only-of-type {\n",
       "        vertical-align: middle;\n",
       "    }\n",
       "\n",
       "    .dataframe tbody tr th {\n",
       "        vertical-align: top;\n",
       "    }\n",
       "\n",
       "    .dataframe thead th {\n",
       "        text-align: right;\n",
       "    }\n",
       "</style>\n",
       "<table border=\"1\" class=\"dataframe\">\n",
       "  <thead>\n",
       "    <tr style=\"text-align: right;\">\n",
       "      <th></th>\n",
       "      <th>ID</th>\n",
       "      <th>Orig Rec ID</th>\n",
       "      <th>Name</th>\n",
       "      <th>Age</th>\n",
       "      <th>Gender</th>\n",
       "      <th>Place of Birth</th>\n",
       "      <th>Year of Birth</th>\n",
       "      <th>Residence</th>\n",
       "      <th>Education</th>\n",
       "      <th>Native Lang</th>\n",
       "      <th>...</th>\n",
       "      <th>Father</th>\n",
       "      <th>Date</th>\n",
       "      <th>Language</th>\n",
       "      <th>Lang Var</th>\n",
       "      <th>SIL</th>\n",
       "      <th>Other Info</th>\n",
       "      <th>Medium</th>\n",
       "      <th>Speed</th>\n",
       "      <th>Location</th>\n",
       "      <th>Rec Info</th>\n",
       "    </tr>\n",
       "  </thead>\n",
       "  <tbody>\n",
       "    <tr>\n",
       "      <th>0</th>\n",
       "      <td>R0001</td>\n",
       "      <td>6802</td>\n",
       "      <td>Etchells, Norma Patricia</td>\n",
       "      <td>0.0</td>\n",
       "      <td>F</td>\n",
       "      <td>Cambridge</td>\n",
       "      <td>1944</td>\n",
       "      <td>Cambridge</td>\n",
       "      <td>Cambridge High School for Girls; Edinburgh Uni...</td>\n",
       "      <td>English</td>\n",
       "      <td>...</td>\n",
       "      <td>Roxton, Lancs.</td>\n",
       "      <td>01-Nov-65</td>\n",
       "      <td>English</td>\n",
       "      <td>NaN</td>\n",
       "      <td>eng</td>\n",
       "      <td>NaN</td>\n",
       "      <td>record</td>\n",
       "      <td>78 ips</td>\n",
       "      <td>records</td>\n",
       "      <td>NaN</td>\n",
       "    </tr>\n",
       "    <tr>\n",
       "      <th>1</th>\n",
       "      <td>R0002</td>\n",
       "      <td>6802</td>\n",
       "      <td>Wolfe, Alan James</td>\n",
       "      <td>0.0</td>\n",
       "      <td>M</td>\n",
       "      <td>Edinburgh</td>\n",
       "      <td>0</td>\n",
       "      <td>Edinburgh</td>\n",
       "      <td>Daniel Stewart's College, Edinburgh; Edinburgh...</td>\n",
       "      <td>English</td>\n",
       "      <td>...</td>\n",
       "      <td>London, (S.E.)</td>\n",
       "      <td>14-Oct-65</td>\n",
       "      <td>English</td>\n",
       "      <td>NaN</td>\n",
       "      <td>eng</td>\n",
       "      <td>NaN</td>\n",
       "      <td>record</td>\n",
       "      <td>78 ips</td>\n",
       "      <td>records</td>\n",
       "      <td>NaN</td>\n",
       "    </tr>\n",
       "    <tr>\n",
       "      <th>2</th>\n",
       "      <td>R0003</td>\n",
       "      <td>6748</td>\n",
       "      <td>MacInnes, Roderick</td>\n",
       "      <td>18.0</td>\n",
       "      <td>M</td>\n",
       "      <td>Edinburgh</td>\n",
       "      <td>1946</td>\n",
       "      <td>Edinburgh</td>\n",
       "      <td>Broughton Secondary, Edinburgh</td>\n",
       "      <td>English</td>\n",
       "      <td>...</td>\n",
       "      <td>Oban</td>\n",
       "      <td>14-Oct-64</td>\n",
       "      <td>English</td>\n",
       "      <td>NaN</td>\n",
       "      <td>eng</td>\n",
       "      <td>NaN</td>\n",
       "      <td>record</td>\n",
       "      <td>78 ips</td>\n",
       "      <td>records</td>\n",
       "      <td>NaN</td>\n",
       "    </tr>\n",
       "    <tr>\n",
       "      <th>3</th>\n",
       "      <td>R0004</td>\n",
       "      <td>6748</td>\n",
       "      <td>Revie, Ian W.</td>\n",
       "      <td>19.0</td>\n",
       "      <td>M</td>\n",
       "      <td>Brighton</td>\n",
       "      <td>1945</td>\n",
       "      <td>Dumfries</td>\n",
       "      <td>Dumfries Academy</td>\n",
       "      <td>English</td>\n",
       "      <td>...</td>\n",
       "      <td>Dumfries</td>\n",
       "      <td>14-Oct-64</td>\n",
       "      <td>English</td>\n",
       "      <td>NaN</td>\n",
       "      <td>eng</td>\n",
       "      <td>NaN</td>\n",
       "      <td>record</td>\n",
       "      <td>78 ips</td>\n",
       "      <td>records</td>\n",
       "      <td>NaN</td>\n",
       "    </tr>\n",
       "    <tr>\n",
       "      <th>4</th>\n",
       "      <td>R0005</td>\n",
       "      <td>6844</td>\n",
       "      <td>Munn, Miss Elizabeth</td>\n",
       "      <td>19.0</td>\n",
       "      <td>F</td>\n",
       "      <td>Patna, India</td>\n",
       "      <td>1947</td>\n",
       "      <td>NaN</td>\n",
       "      <td>Falkirk High School</td>\n",
       "      <td>English</td>\n",
       "      <td>...</td>\n",
       "      <td>Stirling</td>\n",
       "      <td>14-Oct-66</td>\n",
       "      <td>English</td>\n",
       "      <td>NaN</td>\n",
       "      <td>eng</td>\n",
       "      <td>NaN</td>\n",
       "      <td>record</td>\n",
       "      <td>78 ips</td>\n",
       "      <td>records</td>\n",
       "      <td>NaN</td>\n",
       "    </tr>\n",
       "  </tbody>\n",
       "</table>\n",
       "<p>5 rows × 22 columns</p>\n",
       "</div>"
      ],
      "text/plain": [
       "      ID Orig Rec ID                      Name   Age Gender Place of Birth  \\\n",
       "0  R0001        6802  Etchells, Norma Patricia   0.0      F      Cambridge   \n",
       "1  R0002        6802         Wolfe, Alan James   0.0      M      Edinburgh   \n",
       "2  R0003        6748        MacInnes, Roderick  18.0      M      Edinburgh   \n",
       "3  R0004        6748             Revie, Ian W.  19.0      M       Brighton   \n",
       "4  R0005        6844      Munn, Miss Elizabeth  19.0      F   Patna, India   \n",
       "\n",
       "   Year of Birth  Residence  \\\n",
       "0           1944  Cambridge   \n",
       "1              0  Edinburgh   \n",
       "2           1946  Edinburgh   \n",
       "3           1945   Dumfries   \n",
       "4           1947        NaN   \n",
       "\n",
       "                                           Education Native Lang  ...  \\\n",
       "0  Cambridge High School for Girls; Edinburgh Uni...     English  ...   \n",
       "1  Daniel Stewart's College, Edinburgh; Edinburgh...     English  ...   \n",
       "2                     Broughton Secondary, Edinburgh     English  ...   \n",
       "3                                   Dumfries Academy     English  ...   \n",
       "4                                Falkirk High School     English  ...   \n",
       "\n",
       "           Father       Date Language Lang Var  SIL Other Info  Medium  \\\n",
       "0  Roxton, Lancs.  01-Nov-65  English      NaN  eng        NaN  record   \n",
       "1  London, (S.E.)  14-Oct-65  English      NaN  eng        NaN  record   \n",
       "2            Oban  14-Oct-64  English      NaN  eng        NaN  record   \n",
       "3        Dumfries  14-Oct-64  English      NaN  eng        NaN  record   \n",
       "4        Stirling  14-Oct-66  English      NaN  eng        NaN  record   \n",
       "\n",
       "    Speed Location Rec Info  \n",
       "0  78 ips  records      NaN  \n",
       "1  78 ips  records      NaN  \n",
       "2  78 ips  records      NaN  \n",
       "3  78 ips  records      NaN  \n",
       "4  78 ips  records      NaN  \n",
       "\n",
       "[5 rows x 22 columns]"
      ]
     },
     "execution_count": 24,
     "metadata": {},
     "output_type": "execute_result"
    }
   ],
   "source": [
    "raw_info = pd.read_csv('data\\\\dataset_arthur-the-rat\\\\Arthur the Rat.csv', encoding = 'Latin1')\n",
    "info = raw_info.copy()\n",
    "info.head()"
   ]
  },
  {
   "cell_type": "code",
   "execution_count": 28,
   "metadata": {},
   "outputs": [
    {
     "name": "stdout",
     "output_type": "stream",
     "text": [
      "<class 'pandas.core.frame.DataFrame'>\n",
      "RangeIndex: 711 entries, 0 to 710\n",
      "Data columns (total 22 columns):\n",
      "ID                711 non-null object\n",
      "Orig Rec ID       707 non-null object\n",
      "Name              706 non-null object\n",
      "Age               567 non-null float64\n",
      "Gender            694 non-null object\n",
      "Place of Birth    419 non-null object\n",
      "Year of Birth     581 non-null float64\n",
      "Residence         623 non-null object\n",
      "Education         612 non-null object\n",
      "Native Lang       642 non-null object\n",
      "Other Lang        523 non-null object\n",
      "Mother            327 non-null object\n",
      "Father            326 non-null object\n",
      "Date              704 non-null object\n",
      "Language          711 non-null object\n",
      "Lang Var          10 non-null object\n",
      "SIL               711 non-null object\n",
      "Other Info        39 non-null object\n",
      "Medium            710 non-null object\n",
      "Speed             692 non-null object\n",
      "Location          710 non-null object\n",
      "Rec Info          30 non-null object\n",
      "dtypes: float64(2), object(20)\n",
      "memory usage: 122.3+ KB\n"
     ]
    }
   ],
   "source": [
    "# Missing ages and birth years are given as zeros; change to NaN\n",
    "info.replace(to_replace=0, value = np.nan, inplace=True)\n",
    "info.info()"
   ]
  },
  {
   "cell_type": "code",
   "execution_count": 29,
   "metadata": {},
   "outputs": [
    {
     "name": "stdout",
     "output_type": "stream",
     "text": [
      "Unique birthplace listings: 261\n",
      "Unique residence  listings: 436\n"
     ]
    }
   ],
   "source": [
    "print('Unique birthplace listings: %d' %len(info['Place of Birth'].unique()))\n",
    "print('Unique residence  listings: %d' %len(info['Residence'].unique()))"
   ]
  },
  {
   "cell_type": "code",
   "execution_count": 34,
   "metadata": {
    "scrolled": true
   },
   "outputs": [
    {
     "data": {
      "text/plain": [
       "Native Lang\n",
       "Amoy (Halgur)                                          1\n",
       "Arabic                                                 1\n",
       "Bengali                                                1\n",
       "Cantonese                                              2\n",
       "Chinese                                                3\n",
       "Danish                                                 5\n",
       "Dutch                                                 10\n",
       "Englidh                                                1\n",
       "English                                              506\n",
       "English (Scots)                                       22\n",
       "English, Hindustani, Paharia                           1\n",
       "English, Hindustany, Paharia                           1\n",
       "English/French                                         1\n",
       "French                                                10\n",
       "French (British subject)                               1\n",
       "Gaelic                                                12\n",
       "German                                                 5\n",
       "German/English                                         2\n",
       "Gujarati                                               1\n",
       "Hindi                                                  1\n",
       "Hungarian                                              5\n",
       "Ibo                                                    1\n",
       "Icelandic                                              4\n",
       "Irish                                                  1\n",
       "Italian                                                1\n",
       "Japanese                                               3\n",
       "Krio                                                   1\n",
       "Macedonian                                             1\n",
       "Malay, Japanese, Dutch to age 6, Spanish, English      1\n",
       "Norwegian                                              2\n",
       "Nzema                                                  2\n",
       "Panjabi                                                1\n",
       "Polish                                                 2\n",
       "Punjabi                                                1\n",
       "Russian                                                1\n",
       "Scots                                                  4\n",
       "Serbian                                                1\n",
       "Serbo-Croat                                            1\n",
       "Serbo-Croatian                                         1\n",
       "Slovene                                                1\n",
       "Spanish                                                3\n",
       "Spanish, French                                        2\n",
       "Swedish                                                2\n",
       "Tamil                                                  1\n",
       "Thai                                                   2\n",
       "Tivi                                                   1\n",
       "Tongan                                                 1\n",
       "Urdu                                                   2\n",
       "Vienese German                                         2\n",
       "Vietnamese                                             1\n",
       "Welsh                                                  2\n",
       "Yoruba                                                 1\n",
       "Name: ID, dtype: int64"
      ]
     },
     "execution_count": 34,
     "metadata": {},
     "output_type": "execute_result"
    }
   ],
   "source": [
    "info.groupby('Native Lang').count().ID"
   ]
  },
  {
   "cell_type": "code",
   "execution_count": 43,
   "metadata": {},
   "outputs": [
    {
     "data": {
      "text/plain": [
       "datetime.datetime(2065, 11, 1, 0, 0)"
      ]
     },
     "execution_count": 43,
     "metadata": {},
     "output_type": "execute_result"
    }
   ],
   "source": [
    "from datetime import date, datetime, timedelta\n",
    "datetime.strptime(info.Date[0], '%d-%b-%y')"
   ]
  },
  {
   "cell_type": "code",
   "execution_count": 77,
   "metadata": {},
   "outputs": [],
   "source": [
    "def read_date(date_str):\n",
    "    if str(date_str) == 'nan':\n",
    "        return np.nan\n",
    "    d = datetime.strptime(date_str, '%d-%b-%y')\n",
    "    if d.year >= 2000:\n",
    "        # 2-digit years before 1969 are interpreted as being 21st century\n",
    "        d = datetime(d.year - 100, d.month, d.day)\n",
    "    return d\n",
    "\n",
    "def fake_birthday(birth_year):\n",
    "    # When I only have the year, use July 5 as the birthday (it's the median birthday in the US from 1994 to 2014)\n",
    "    if np.isnan(birth_year):\n",
    "        return np.nan\n",
    "    return datetime(birth_year, 7, 5)"
   ]
  },
  {
   "cell_type": "code",
   "execution_count": 78,
   "metadata": {},
   "outputs": [
    {
     "data": {
      "text/plain": [
       "datetime.datetime(1965, 11, 1, 0, 0)"
      ]
     },
     "execution_count": 78,
     "metadata": {},
     "output_type": "execute_result"
    }
   ],
   "source": [
    "read_date(info.Date[0])"
   ]
  },
  {
   "cell_type": "code",
   "execution_count": 76,
   "metadata": {},
   "outputs": [
    {
     "data": {
      "text/plain": [
       "nan"
      ]
     },
     "execution_count": 76,
     "metadata": {},
     "output_type": "execute_result"
    }
   ],
   "source": [
    "read_date(info.Date[42])"
   ]
  },
  {
   "cell_type": "code",
   "execution_count": null,
   "metadata": {},
   "outputs": [],
   "source": []
  }
 ],
 "metadata": {
  "kernelspec": {
   "display_name": "Python 3",
   "language": "python",
   "name": "python3"
  },
  "language_info": {
   "codemirror_mode": {
    "name": "ipython",
    "version": 3
   },
   "file_extension": ".py",
   "mimetype": "text/x-python",
   "name": "python",
   "nbconvert_exporter": "python",
   "pygments_lexer": "ipython3",
   "version": "3.7.3"
  }
 },
 "nbformat": 4,
 "nbformat_minor": 2
}
