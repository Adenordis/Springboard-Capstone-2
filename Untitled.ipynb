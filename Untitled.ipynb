{
 "cells": [
  {
   "cell_type": "code",
   "execution_count": null,
   "metadata": {},
   "outputs": [],
   "source": [
    "import pandas as pd\n",
    "import numpy as np\n",
    "import matplotlib.pyplot as plt\n",
    "\n",
    "from keras.models import Sequential\n",
    "from keras.layers import Dense, Activation"
   ]
  },
  {
   "cell_type": "code",
   "execution_count": null,
   "metadata": {},
   "outputs": [],
   "source": [
    "# Given either the number of the recording (int between 1 and 712) or the id (string in the form R0000), locate the file\n",
    "def get_pathandfile(recording_id):\n",
    "    # recording is either an integer between 1 and 712 or a string in the form R0000, e.g. R0482\n",
    "    try:\n",
    "        id_number = int(recording_id)\n",
    "    except:\n",
    "        # Given as string\n",
    "        assert (recording_id[0] == 'R'), 'Wrong format for recording ID string; should be in the form R0000'\n",
    "        try:\n",
    "            id_number = int(recording_id[1:])\n",
    "        except (ValueError, TypeError) as err:\n",
    "            print('Wrong format for recording ID string; should be in the form R0000')\n",
    "            raise err\n",
    "    assert ((id_number > 0) & (id_number < 713)), 'Recording number must be between 1 and 712'    \n",
    "    \n",
    "    \n",
    "    r_id = 'R%04d' %id_number\n",
    "    lower = 25*(id_number//25) + 1\n",
    "    upper = 25*(id_number//25 + 1)\n",
    "    return 'data\\\\dataset_arthur-the-rat\\\\Arthur the Rat (recordings ' + str(lower) + '-' + str(upper) + ')\\\\' + r_id + '.wav'"
   ]
  }
 ],
 "metadata": {
  "kernelspec": {
   "display_name": "Python 3",
   "language": "python",
   "name": "python3"
  },
  "language_info": {
   "codemirror_mode": {
    "name": "ipython",
    "version": 3
   },
   "file_extension": ".py",
   "mimetype": "text/x-python",
   "name": "python",
   "nbconvert_exporter": "python",
   "pygments_lexer": "ipython3",
   "version": "3.7.3"
  }
 },
 "nbformat": 4,
 "nbformat_minor": 2
}
