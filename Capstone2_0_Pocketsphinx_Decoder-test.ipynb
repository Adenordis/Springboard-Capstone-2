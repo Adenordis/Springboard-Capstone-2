{
 "cells": [
  {
   "cell_type": "markdown",
   "metadata": {},
   "source": [
    "## Testing pocketsphinx decoder\n",
    "Code from pocketsphinx decoder_test.py: https://github.com/cmusphinx/pocketsphinx/tree/master/swig/python/test"
   ]
  },
  {
   "cell_type": "code",
   "execution_count": 1,
   "metadata": {},
   "outputs": [],
   "source": [
    "from os import environ, path\n",
    "from pocketsphinx import *\n",
    "from sphinxbase import *"
   ]
  },
  {
   "cell_type": "code",
   "execution_count": 2,
   "metadata": {},
   "outputs": [],
   "source": [
    "model_dir = get_model_path()\n",
    "data_dir = 'C:\\\\Users\\\\Eleanor\\\\Documents\\\\github\\\\Springboard-Capstone-2\\\\data\\\\dataset_arthur-the-rat\\\\'"
   ]
  },
  {
   "cell_type": "code",
   "execution_count": 3,
   "metadata": {},
   "outputs": [],
   "source": [
    "# Create a decoder with certain model\n",
    "config = Decoder.default_config()\n",
    "config.set_string('-hmm', path.join(model_dir, 'en-us'))\n",
    "config.set_string('-lm', path.join(model_dir, 'en-us.lm.bin'))\n",
    "config.set_string('-dict', path.join(model_dir, 'cmudict-en-us.dict'))"
   ]
  },
  {
   "cell_type": "code",
   "execution_count": 4,
   "metadata": {},
   "outputs": [
    {
     "name": "stdout",
     "output_type": "stream",
     "text": [
      "Pronunciation for word 'hello' is  HH AH L OW\n",
      "Pronunciation for word 'abcdf' is  None\n"
     ]
    }
   ],
   "source": [
    "# Demonstrate pronunciation lookup\n",
    "decoder = Decoder(config)\n",
    "print (\"Pronunciation for word 'hello' is \", decoder.lookup_word(\"hello\"))\n",
    "print (\"Pronunciation for word 'abcdf' is \", decoder.lookup_word(\"abcdf\"))"
   ]
  },
  {
   "cell_type": "markdown",
   "metadata": {},
   "source": [
    "### Test file number one\n",
    "\n",
    "Files goforward.raw and goforward.mfc from https://github.com/cmusphinx/pocketsphinx/tree/master/test/data\n",
    "\n",
    "Correct transcription: \"*Go forward ten meters*\""
   ]
  },
  {
   "cell_type": "code",
   "execution_count": 5,
   "metadata": {},
   "outputs": [
    {
     "name": "stdout",
     "output_type": "stream",
     "text": [
      "Best hypothesis:  go forward ten meters  model score:  -7066  confidence:  0.04042641466841839\n"
     ]
    }
   ],
   "source": [
    "# Decode streaming data\n",
    "decoder.start_utt()\n",
    "stream = open(path.join(data_dir, 'Audio test\\\\goforward.raw'), 'rb')\n",
    "while True:\n",
    "    buf = stream.read(1024)\n",
    "    if buf:\n",
    "        decoder.process_raw(buf, False, False)\n",
    "    else:\n",
    "        break\n",
    "decoder.end_utt()\n",
    "\n",
    "hypothesis = decoder.hyp()\n",
    "logmath = decoder.get_logmath()\n",
    "print ('Best hypothesis: ', hypothesis.hypstr, \" model score: \", hypothesis.best_score, \" confidence: \", logmath.exp(hypothesis.prob))"
   ]
  },
  {
   "cell_type": "code",
   "execution_count": 6,
   "metadata": {},
   "outputs": [
    {
     "name": "stdout",
     "output_type": "stream",
     "text": [
      "Best hypothesis segments:  ['<s>', '<sil>', 'go', 'forward', 'ten', 'meters', '</s>']\n"
     ]
    }
   ],
   "source": [
    "print ('Best hypothesis segments: ', [seg.word for seg in decoder.seg()])"
   ]
  },
  {
   "cell_type": "code",
   "execution_count": 7,
   "metadata": {},
   "outputs": [
    {
     "name": "stdout",
     "output_type": "stream",
     "text": [
      "Best 10 hypothesis: \n",
      "go forward ten meters -28034\n",
      "go for word ten meters -28570\n",
      "go forward and majors -28670\n",
      "go forward and meters -28681\n",
      "go forward and readers -28685\n",
      "go forward ten readers -28688\n",
      "go forward ten leaders -28695\n",
      "go forward can meters -28695\n",
      "go forward and leaders -28706\n",
      "go for work ten meters -28722\n"
     ]
    }
   ],
   "source": [
    "# Access N best decodings.\n",
    "print ('Best 10 hypothesis: ')\n",
    "for best, i in zip(decoder.nbest(), range(10)):\n",
    "    print (best.hypstr, best.score)"
   ]
  },
  {
   "cell_type": "code",
   "execution_count": 8,
   "metadata": {},
   "outputs": [
    {
     "name": "stdout",
     "output_type": "stream",
     "text": [
      "Best hypothesis:  go forward ten meters  model score:  -7095  confidence:  -32715\n"
     ]
    }
   ],
   "source": [
    "stream = open(path.join(data_dir, 'Audio test\\\\goforward.mfc'), 'rb')\n",
    "stream.read(4)\n",
    "buf = stream.read(13780)\n",
    "decoder.start_utt()\n",
    "decoder.process_cep(buf, False, True)\n",
    "decoder.end_utt()\n",
    "hypothesis = decoder.hyp()\n",
    "print ('Best hypothesis: ', hypothesis.hypstr, \" model score: \", hypothesis.best_score, \" confidence: \", hypothesis.prob)"
   ]
  },
  {
   "cell_type": "markdown",
   "metadata": {},
   "source": [
    "### Test file number two\n",
    "\n",
    "File sense_and_sensibility_01_austen_64kb-0870.wav from https://github.com/cmusphinx/pocketsphinx/tree/master/test/data/librivox\n",
    "\n",
    "Correct transcription: \"*and mister john dashwood had then leisure to consider how much there might be prudently in his power to do for them*\""
   ]
  },
  {
   "cell_type": "code",
   "execution_count": 9,
   "metadata": {},
   "outputs": [
    {
     "name": "stdout",
     "output_type": "stream",
     "text": [
      "Best hypothesis:  and mr john s. would and then at leisure to consider how much there might be greatly in his power to do for them  model score:  -33908  confidence:  1.5083425365532256e-09\n"
     ]
    }
   ],
   "source": [
    "decoder.start_utt()\n",
    "stream = open(path.join(data_dir, 'Audio test\\\\sense_and_sensibility_01_austen_64kb-0870.wav'), 'rb')\n",
    "while True:\n",
    "    buf = stream.read(1024)\n",
    "    if buf:\n",
    "        decoder.process_raw(buf, False, False)\n",
    "    else:\n",
    "        break\n",
    "decoder.end_utt()\n",
    "\n",
    "hypothesis = decoder.hyp()\n",
    "logmath = decoder.get_logmath()\n",
    "print ('Best hypothesis: ', hypothesis.hypstr, \" model score: \", hypothesis.best_score, \" confidence: \", logmath.exp(hypothesis.prob))"
   ]
  },
  {
   "cell_type": "code",
   "execution_count": 10,
   "metadata": {},
   "outputs": [
    {
     "name": "stdout",
     "output_type": "stream",
     "text": [
      "Best 10 hypothesis: \n",
      "and mr john s. would and then at leisure to consider owl much there might be greatly in his power to do for them -55659\n",
      "and mr john s. would and then at leisure to consider owl much there might be greatly in his power to do for fun -55783\n",
      "and mr john s. would and then at leisure to consider owl much there might be greatly in his power to do for love -55729\n",
      "and mr john guess what and then at leisure to consider owl much there might be greatly in his power to do for them -55666\n",
      "and mr john guess what and then at leisure to consider owl much there might be greatly in his power to do for fun -55790\n",
      "and mr john guess what and then at leisure to consider owl much there might be greatly in his power to do for love -55736\n",
      "and mr john s. would and then at leisure to consider owl much there might be greatly in his power to do for them -55758\n",
      "and mr john s. would and then at leisure to consider owl much there might be greatly in his power to do for them -55758\n",
      "and mr john s. would end and leisure to consider owl much there might be greatly in his power to do for them -55674\n",
      "and mr john s. would end and leisure to consider owl much there might be greatly in his power to do for fun -55798\n"
     ]
    }
   ],
   "source": [
    "# Access N best decodings.\n",
    "print ('Best 10 hypothesis: ')\n",
    "for best, i in zip(decoder.nbest(), range(10)):\n",
    "    print (best.hypstr, best.score)"
   ]
  },
  {
   "cell_type": "code",
   "execution_count": 11,
   "metadata": {},
   "outputs": [
    {
     "name": "stdout",
     "output_type": "stream",
     "text": [
      "Pronunciation for word 'prudently' is  P R UW D AH N T L IY\n",
      "Pronunciation for word 'dashwood' is  D AE SH W UH D\n"
     ]
    }
   ],
   "source": [
    "print (\"Pronunciation for word 'prudently' is \", decoder.lookup_word(\"prudently\"))\n",
    "print (\"Pronunciation for word 'dashwood' is \", decoder.lookup_word(\"dashwood\"))"
   ]
  },
  {
   "cell_type": "markdown",
   "metadata": {},
   "source": [
    "### Test file number three\n",
    "\n",
    "File OSR_us_000_0010_8k.wav from http://www.voiptroubleshooter.com/open_speech/american.html\n",
    "\n",
    "Source for transcriptions: https://www.cs.columbia.edu/~hgs/audio/harvard.html\n",
    "\n",
    "Correct transcription:\n",
    "\"*The birch canoe slid on the smooth planks.\n",
    "Glue the sheet to the dark blue background.\n",
    "It's easy to tell the depth of a well.\n",
    "These days a chicken leg is a rare dish.\n",
    "Rice is often served in round bowls.\n",
    "The juice of lemons makes fine punch.\n",
    "The box was thrown beside the parked truck.\n",
    "The hogs were fed chopped corn and garbage.\n",
    "Four hours of steady work faced us.\n",
    "Large size in stockings is hard to sell.*\""
   ]
  },
  {
   "cell_type": "code",
   "execution_count": 12,
   "metadata": {},
   "outputs": [
    {
     "name": "stdout",
     "output_type": "stream",
     "text": [
      "Best hypothesis:  what do all the they go about it oh to the book and a lot of books at about where their bit and but at the top but that what's really the if been i get a bit  model score:  -73208  confidence:  2.9252480354628394e-25\n",
      "Best 10 hypothesis: \n",
      "what do all that but don't talk about it oh that are bought and whatnot cause they at what will that bit and but at it but that aunts breath the if been a bit little bit -97312\n",
      "what do all that but don't talk about it oh that are bought and whatnot cause they at what will that bit and but at it but that op's breath the if been a bit little bit -97313\n",
      "but don't do that but don't talk about it oh that are bought and whatnot cause they at what will that bit and but at it but that aunts breath the if been a bit little bit -97318\n",
      "but don't do that but don't talk about it oh that are bought and whatnot cause they at what will that bit and but at it but that op's breath the if been a bit little bit -97319\n",
      "what do all that but don't talk about it oh that are bought and whatnot cause they at what will that bit and but at it but that aunts breath the if been a bit a little bit -97163\n",
      "what do all that but don't talk about it oh that are bought and whatnot cause they at what will that bit and but at it but that op's breath the if been a bit a little bit -97164\n",
      "but don't do that but don't talk about it oh that are bought and whatnot cause they at what will that bit and but at it but that aunts breath the if been a bit a little bit -97169\n",
      "but don't do that but don't talk about it oh that are bought and whatnot cause they at what will that bit and but at it but that op's breath the if been a bit a little bit -97170\n",
      "what do all that but don't talk about it oh that are bought and whatnot cause they at what will that bit and bad and said but that aunts breath the if been a bit little bit -97459\n",
      "what do all that but don't talk about it oh that are bought and whatnot cause they at what will that bit and bad and said but that op's breath the if been a bit little bit -97460\n"
     ]
    }
   ],
   "source": [
    "decoder.start_utt()\n",
    "stream = open(path.join(data_dir, 'Audio test\\\\OSR_us_000_0010_8k.wav'), 'rb')\n",
    "while True:\n",
    "    buf = stream.read(1024)\n",
    "    if buf:\n",
    "        decoder.process_raw(buf, False, False)\n",
    "    else:\n",
    "        break\n",
    "decoder.end_utt()\n",
    "\n",
    "hypothesis = decoder.hyp()\n",
    "logmath = decoder.get_logmath()\n",
    "print ('Best hypothesis: ', hypothesis.hypstr, \" model score: \", hypothesis.best_score, \" confidence: \", logmath.exp(hypothesis.prob))\n",
    "print ('Best 10 hypothesis: ')\n",
    "for best, i in zip(decoder.nbest(), range(10)):\n",
    "    print (best.hypstr, best.score)"
   ]
  },
  {
   "cell_type": "markdown",
   "metadata": {},
   "source": [
    "### Test file number four\n",
    "\n",
    "File R0482.wav from https://datashare.is.ed.ac.uk/handle/10283/392\n",
    "\n",
    "Correct transcription:\n",
    "\"*Once there was a young rat named Arthur, who could never make up his mind. Whenever his friends asked him if he would like to go out with them, he would only answer, \"I don't know.\" He wouldn't say \"yes\" or \"no\" either. He could never learn to make a choice. His aunt Helen said to him, \"No one is going to care for you if you carry on like this.\" One rainy day, the rats heard a great noise in the loft where the pine rafters were all rotten. At last the joints gave way and fell to the ground. The walls shook and all the rats' hair stood on end with fear and horror. \"This won't do,\" said the captain. \"I'll send scouts out to search for a new home.\" Three hours later the seven scouts came back and said, \"We have found just what we wanted, a stone house where there is room and good food for us all. There is a kindly horse named Nelly, a cow, a calf, and a garden with an elm tree.\" Just then the old rat saw Arthur. \"Stop,\" he ordered coarsely. \"Are you coming?\" \"Of course I suppose I ought,\" Arthur sighed, \"but the roof may not come down yet.\" \"Well,\" said the angry old rat, \"we can't wait all day for you. Right about face. March!\" And they went off. Arthur stood and watched them hurry away. The idea of immediate decision was too much for him.  \"Why do they have to go today?\" he said calmly to himself.  That night there was a great crash that shook the earth. In the foggy morning some men rode up and looked at the ruins. One of them moved a board and saw a young rat lying on his side, quite dead, half in and half out of his hole. \n",
    "One two three four five six seven eight nine ten eleven twelve thirteen fourteen fifteen sixteen seventeen eighteen nineteen twenty.*\""
   ]
  },
  {
   "cell_type": "code",
   "execution_count": 13,
   "metadata": {},
   "outputs": [
    {
     "name": "stdout",
     "output_type": "stream",
     "text": [
      "Best hypothesis:  of the boob of both of ball if the brown would prefer it up from home to have a rule of hopefully it will have fun and move to move up and blue lived won't for the pop of how to find her they that for a white football move it for all at home often only a few and for the warm home war or outfit and warm out and lose if lot all of the war to move for how to ah moi food that war but moved moved heaven for the illusion that hold for all of a ham what do you what fact is if ah moved from fox who should move back move back to the left cold versus the room left vo and no fish will come from low move will post flew them up if the food food for an of new war who owned half around at you and found move up for a living on it to a whole lived for coffee for a yahoo whoo it all growth of the war of the time to time the notion that moved to move up poop for all all the time and that volvo of dog food time of doing all the time i have one who ah live how you do need it for at home ah but new warm i am time we'd get a cat how but more of a move half of it is it ah have to move the end of warcraft it or how how the mole can move back move them fresh food do you need to have fun if you were to move to ah to war to form the last time left for a high all that dungeon the passion i use the next time huh home of home for fifth floor room home from woof woof woof and at home do that from i'm half from moved home and home pa for them were from the old  model score:  -1190737  confidence:  0.0\n"
     ]
    }
   ],
   "source": [
    "decoder.start_utt()\n",
    "stream = open(path.join(data_dir, 'Arthur the Rat (recordings 476-500)\\\\R0482.wav'), 'rb')\n",
    "while True:\n",
    "    buf = stream.read(1024)\n",
    "    if buf:\n",
    "        decoder.process_raw(buf, False, False)\n",
    "    else:\n",
    "        break\n",
    "decoder.end_utt()\n",
    "\n",
    "hypothesis = decoder.hyp()\n",
    "logmath = decoder.get_logmath()\n",
    "print ('Best hypothesis: ', hypothesis.hypstr, \" model score: \", hypothesis.best_score, \" confidence: \", logmath.exp(hypothesis.prob))"
   ]
  },
  {
   "cell_type": "code",
   "execution_count": null,
   "metadata": {},
   "outputs": [],
   "source": []
  },
  {
   "cell_type": "code",
   "execution_count": null,
   "metadata": {},
   "outputs": [],
   "source": []
  }
 ],
 "metadata": {
  "kernelspec": {
   "display_name": "Python 3",
   "language": "python",
   "name": "python3"
  },
  "language_info": {
   "codemirror_mode": {
    "name": "ipython",
    "version": 3
   },
   "file_extension": ".py",
   "mimetype": "text/x-python",
   "name": "python",
   "nbconvert_exporter": "python",
   "pygments_lexer": "ipython3",
   "version": "3.7.3"
  }
 },
 "nbformat": 4,
 "nbformat_minor": 2
}
